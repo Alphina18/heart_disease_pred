{
 "cells": [
  {
   "cell_type": "code",
   "execution_count": 3,
   "outputs": [],
   "source": [
    "import pandas as pd\n",
    "import numpy as np\n",
    "import matplotlib.pyplot as plt\n",
    "import seaborn as sns"
   ],
   "metadata": {
    "collapsed": true,
    "ExecuteTime": {
     "end_time": "2024-03-05T11:55:45.541744900Z",
     "start_time": "2024-03-05T11:55:45.513814200Z"
    }
   },
   "id": "initial_id"
  },
  {
   "cell_type": "code",
   "execution_count": 55,
   "outputs": [],
   "source": [
    "df = pd.read_csv(\"heart.csv\") # reading in the file contents"
   ],
   "metadata": {
    "collapsed": false,
    "ExecuteTime": {
     "end_time": "2024-03-07T19:12:29.068711900Z",
     "start_time": "2024-03-07T19:12:27.093744600Z"
    }
   },
   "id": "d54b94ad5ef68e66"
  },
  {
   "cell_type": "markdown",
   "source": [
    "The first 5 rows of the dataset:"
   ],
   "metadata": {
    "collapsed": false
   },
   "id": "5ac5c743c5c3fa3e"
  },
  {
   "cell_type": "code",
   "execution_count": 56,
   "outputs": [
    {
     "data": {
      "text/plain": "   Age Sex ChestPainType  RestingBP  Cholesterol  FastingBS RestingECG  MaxHR  \\\n0   40   M           ATA        140          289          0     Normal    172   \n1   49   F           NAP        160          180          0     Normal    156   \n2   37   M           ATA        130          283          0         ST     98   \n3   48   F           ASY        138          214          0     Normal    108   \n4   54   M           NAP        150          195          0     Normal    122   \n\n  ExerciseAngina  Oldpeak ST_Slope  HeartDisease  \n0              N      0.0       Up             0  \n1              N      1.0     Flat             1  \n2              N      0.0       Up             0  \n3              Y      1.5     Flat             1  \n4              N      0.0       Up             0  ",
      "text/html": "<div>\n<style scoped>\n    .dataframe tbody tr th:only-of-type {\n        vertical-align: middle;\n    }\n\n    .dataframe tbody tr th {\n        vertical-align: top;\n    }\n\n    .dataframe thead th {\n        text-align: right;\n    }\n</style>\n<table border=\"1\" class=\"dataframe\">\n  <thead>\n    <tr style=\"text-align: right;\">\n      <th></th>\n      <th>Age</th>\n      <th>Sex</th>\n      <th>ChestPainType</th>\n      <th>RestingBP</th>\n      <th>Cholesterol</th>\n      <th>FastingBS</th>\n      <th>RestingECG</th>\n      <th>MaxHR</th>\n      <th>ExerciseAngina</th>\n      <th>Oldpeak</th>\n      <th>ST_Slope</th>\n      <th>HeartDisease</th>\n    </tr>\n  </thead>\n  <tbody>\n    <tr>\n      <th>0</th>\n      <td>40</td>\n      <td>M</td>\n      <td>ATA</td>\n      <td>140</td>\n      <td>289</td>\n      <td>0</td>\n      <td>Normal</td>\n      <td>172</td>\n      <td>N</td>\n      <td>0.0</td>\n      <td>Up</td>\n      <td>0</td>\n    </tr>\n    <tr>\n      <th>1</th>\n      <td>49</td>\n      <td>F</td>\n      <td>NAP</td>\n      <td>160</td>\n      <td>180</td>\n      <td>0</td>\n      <td>Normal</td>\n      <td>156</td>\n      <td>N</td>\n      <td>1.0</td>\n      <td>Flat</td>\n      <td>1</td>\n    </tr>\n    <tr>\n      <th>2</th>\n      <td>37</td>\n      <td>M</td>\n      <td>ATA</td>\n      <td>130</td>\n      <td>283</td>\n      <td>0</td>\n      <td>ST</td>\n      <td>98</td>\n      <td>N</td>\n      <td>0.0</td>\n      <td>Up</td>\n      <td>0</td>\n    </tr>\n    <tr>\n      <th>3</th>\n      <td>48</td>\n      <td>F</td>\n      <td>ASY</td>\n      <td>138</td>\n      <td>214</td>\n      <td>0</td>\n      <td>Normal</td>\n      <td>108</td>\n      <td>Y</td>\n      <td>1.5</td>\n      <td>Flat</td>\n      <td>1</td>\n    </tr>\n    <tr>\n      <th>4</th>\n      <td>54</td>\n      <td>M</td>\n      <td>NAP</td>\n      <td>150</td>\n      <td>195</td>\n      <td>0</td>\n      <td>Normal</td>\n      <td>122</td>\n      <td>N</td>\n      <td>0.0</td>\n      <td>Up</td>\n      <td>0</td>\n    </tr>\n  </tbody>\n</table>\n</div>"
     },
     "execution_count": 56,
     "metadata": {},
     "output_type": "execute_result"
    }
   ],
   "source": [
    "df.head()"
   ],
   "metadata": {
    "collapsed": false,
    "ExecuteTime": {
     "end_time": "2024-03-07T19:12:31.054355100Z",
     "start_time": "2024-03-07T19:12:30.944212800Z"
    }
   },
   "id": "88887e1a9a63e63"
  },
  {
   "cell_type": "code",
   "execution_count": 54,
   "outputs": [
    {
     "name": "stdout",
     "output_type": "stream",
     "text": [
      "Age                50\n",
      "Sex                 2\n",
      "ChestPainType       4\n",
      "RestingBP          67\n",
      "Cholesterol       222\n",
      "FastingBS           2\n",
      "RestingECG          3\n",
      "MaxHR             119\n",
      "ExerciseAngina      2\n",
      "Oldpeak            53\n",
      "ST_Slope            3\n",
      "HeartDisease        2\n",
      "dtype: int64\n"
     ]
    }
   ],
   "source": [
    "print(df.nunique())"
   ],
   "metadata": {
    "collapsed": false,
    "ExecuteTime": {
     "end_time": "2024-03-07T18:45:31.684701700Z",
     "start_time": "2024-03-07T18:45:31.487046100Z"
    }
   },
   "id": "89dc093a459d7f73"
  },
  {
   "cell_type": "markdown",
   "source": [
    "conclusie:\n",
    "- Age, RestingBP, cholesterol, maxhr and oldpeak have very high unique numbers so those numbers range alot\n",
    "- 2/3/4 aka very low numbers indicating that those attributes are probably categorical this is true for sexes, chestpain, fastingBS, restingECG, exercise angina, st_slope and heart disease"
   ],
   "metadata": {
    "collapsed": false
   },
   "id": "2363ae2b39f070b6"
  },
  {
   "cell_type": "markdown",
   "source": [
    "### Explanation of the 12 attributes in the dataset:\n",
    "\n",
    "- **Age**: The age of the patient in years.\n",
    "  \n",
    "- **Sex**: The gender of the patient (M: Male, F: Female).\n",
    "  \n",
    "- **Chest Pain Type**: Describes the type of chest discomfort experienced by the patient:\n",
    "    - **Typical Angina (TA)**: Chest pain or discomfort typically associated with heart problems, often triggered by physical exertion or emotional stress.\n",
    "    - **Atypical Angina (ATA)**: Chest discomfort that doesn't fully meet the criteria for typical angina but still suggests a possible heart-related issue. The symptoms may vary and could include shortness of breath, nausea, or fatigue.\n",
    "    - **Non-Anginal Pain (NAP)**: Chest discomfort not originating from the heart, which could be due to musculoskeletal issues, respiratory problems, gastrointestinal conditions, or anxiety.\n",
    "    - **Asymptomatic (ASY)**: The patient does not experience any symptoms related to chest discomfort.\n",
    "\n",
    "- **Resting Blood Pressure**: The patient's blood pressure measured while at rest, in millimeters of mercury (mm Hg).\n",
    "  \n",
    "- **Cholesterol**: The level of cholesterol in the patient's blood serum, measured in milligrams per deciliter (mm/dl).\n",
    "  \n",
    "- **Fasting Blood Sugar**: Indicates the patient's fasting blood sugar level:\n",
    "    - **1**: If fasting blood sugar is greater than 120 mg/dl.\n",
    "    - **0**: Otherwise.\n",
    "\n",
    "- **Resting Electrocardiogram Results**: Interpretation of the resting electrocardiogram (ECG) findings:\n",
    "    - **Normal**: ECG shows no abnormalities.\n",
    "    - **ST**: ECG shows abnormalities in the ST-T wave, such as T wave inversions or ST elevation/depression of more than 0.05 millivolts (mV).\n",
    "    - **LVH**: ECG suggests probable or definite left ventricular hypertrophy (enlargement of the heart's left ventricle) according to Estes' criteria.\n",
    "  \n",
    "- **Maximum Heart Rate Achieved**: The highest heart rate achieved during physical exertion, measured in beats per minute (bpm).\n",
    "\n",
    "- **Exercise-Induced Angina**: Indicates whether the patient experienced angina (chest pain or discomfort) during exercise:\n",
    "    - **Y**: Yes, the patient experienced exercise-induced angina.\n",
    "    - **N**: No, the patient did not experience exercise-induced angina.\n",
    "  \n",
    "- **Oldpeak**: Refers to the ST depression observed during exercise, measured as a numeric value.\n",
    "\n",
    "- **ST Slope**: Describes the slope of the peak exercise ST segment observed on the ECG:\n",
    "    - **Up**: The ST segment slopes upwards during exercise.\n",
    "    - **Flat**: The ST segment remains flat during exercise.\n",
    "    - **Down**: The ST segment slopes downwards during exercise.\n",
    "  \n",
    "- **Heart Disease**: Indicates the presence or absence of heart disease:\n",
    "    - **1**: Heart disease is present.\n",
    "    - **0**: No heart disease is detected."
   ],
   "metadata": {
    "collapsed": false
   },
   "id": "9597cc6e1b3d163f"
  },
  {
   "cell_type": "markdown",
   "source": [
    "A codebook made of the dataset with help from the publications of the data."
   ],
   "metadata": {
    "collapsed": false
   },
   "id": "abf2696c9369c70a"
  },
  {
   "cell_type": "code",
   "execution_count": 59,
   "outputs": [
    {
     "data": {
      "text/plain": "                         unit     dtype  \\\nattribute                                 \nAge                      year     int64   \nSex                      n.a.  category   \nChestPainType            n.a.  category   \nRestingBP            mm of Hg     int64   \nCholesterol             mm/dl     int64   \nFastingBS                n.a.  category   \nRestingECG               n.a.  category   \nMaxHR                     bpm     int64   \nExerciseAngina           n.a.  category   \nOldpeak         st depression     int64   \nST_Slope                 n.a.  category   \nHeartDisease             n.a.  category   \n\n                                                      description  \nattribute                                                          \nAge                                         The age of the person  \nSex                                      The gender of the person  \nChestPainType         The type of pain the person is experiencing  \nRestingBP                         Recorded blood pressure at rest  \nCholesterol     The level of cholesterol in the patient's bloo...  \nFastingBS       Indicates the patient's fasting blood sugar level  \nRestingECG      Interpretation of the resting electrocardiogra...  \nMaxHR           Maximum heat rate achieved during physical ext...  \nExerciseAngina  Indicates whether the patient experienced angi...  \nOldpeak                    ST depression observed during exercise  \nST_Slope        The slope of the peak exercise ST segment obse...  \nHeartDisease    Indicates the presence or absence of heart dis...  ",
      "text/html": "<div>\n<style scoped>\n    .dataframe tbody tr th:only-of-type {\n        vertical-align: middle;\n    }\n\n    .dataframe tbody tr th {\n        vertical-align: top;\n    }\n\n    .dataframe thead th {\n        text-align: right;\n    }\n</style>\n<table border=\"1\" class=\"dataframe\">\n  <thead>\n    <tr style=\"text-align: right;\">\n      <th></th>\n      <th>unit</th>\n      <th>dtype</th>\n      <th>description</th>\n    </tr>\n    <tr>\n      <th>attribute</th>\n      <th></th>\n      <th></th>\n      <th></th>\n    </tr>\n  </thead>\n  <tbody>\n    <tr>\n      <th>Age</th>\n      <td>year</td>\n      <td>int64</td>\n      <td>The age of the person</td>\n    </tr>\n    <tr>\n      <th>Sex</th>\n      <td>n.a.</td>\n      <td>category</td>\n      <td>The gender of the person</td>\n    </tr>\n    <tr>\n      <th>ChestPainType</th>\n      <td>n.a.</td>\n      <td>category</td>\n      <td>The type of pain the person is experiencing</td>\n    </tr>\n    <tr>\n      <th>RestingBP</th>\n      <td>mm of Hg</td>\n      <td>int64</td>\n      <td>Recorded blood pressure at rest</td>\n    </tr>\n    <tr>\n      <th>Cholesterol</th>\n      <td>mm/dl</td>\n      <td>int64</td>\n      <td>The level of cholesterol in the patient's bloo...</td>\n    </tr>\n    <tr>\n      <th>FastingBS</th>\n      <td>n.a.</td>\n      <td>category</td>\n      <td>Indicates the patient's fasting blood sugar level</td>\n    </tr>\n    <tr>\n      <th>RestingECG</th>\n      <td>n.a.</td>\n      <td>category</td>\n      <td>Interpretation of the resting electrocardiogra...</td>\n    </tr>\n    <tr>\n      <th>MaxHR</th>\n      <td>bpm</td>\n      <td>int64</td>\n      <td>Maximum heat rate achieved during physical ext...</td>\n    </tr>\n    <tr>\n      <th>ExerciseAngina</th>\n      <td>n.a.</td>\n      <td>category</td>\n      <td>Indicates whether the patient experienced angi...</td>\n    </tr>\n    <tr>\n      <th>Oldpeak</th>\n      <td>st depression</td>\n      <td>int64</td>\n      <td>ST depression observed during exercise</td>\n    </tr>\n    <tr>\n      <th>ST_Slope</th>\n      <td>n.a.</td>\n      <td>category</td>\n      <td>The slope of the peak exercise ST segment obse...</td>\n    </tr>\n    <tr>\n      <th>HeartDisease</th>\n      <td>n.a.</td>\n      <td>category</td>\n      <td>Indicates the presence or absence of heart dis...</td>\n    </tr>\n  </tbody>\n</table>\n</div>"
     },
     "execution_count": 59,
     "metadata": {},
     "output_type": "execute_result"
    }
   ],
   "source": [
    "codebook={\n",
    "    \"attribute\": ['Age', 'Sex', 'ChestPainType', 'RestingBP', 'Cholesterol', 'FastingBS', 'RestingECG', 'MaxHR', 'ExerciseAngina', 'Oldpeak', 'ST_Slope', 'HeartDisease'],\n",
    "    \"unit\": [\"year\", \"n.a.\", \"n.a.\", \"mm of Hg\", \"mm/dl\", \"n.a.\", \"n.a.\", \"bpm\", \"n.a.\", \"st depression\", \"n.a.\", \"n.a.\"],\n",
    "    \"dtype\": [\"int64\", \"category\", \"category\", \"int64\", \"int64\", \"category\", \"category\", \"int64\", \"category\", \"int64\", \"category\", \"category\"],\n",
    "    \"description\": [\n",
    "        \"The age of the person\", \n",
    "        \"The gender of the person\", \n",
    "        \"The type of pain the person is experiencing\", \n",
    "        \"Recorded blood pressure at rest\", \n",
    "        \"The level of cholesterol in the patient's blood serum\", \n",
    "        \"Indicates the patient's fasting blood sugar level\", \n",
    "        \"Interpretation of the resting electrocardiogram (ECG) findings\",\n",
    "        \"Maximum heat rate achieved during physical extraction\", \n",
    "        \"Indicates whether the patient experienced angina during exercise\", \n",
    "        \"ST depression observed during exercise\", \n",
    "        \"The slope of the peak exercise ST segment observed on the ECG\", \n",
    "        \"Indicates the presence or absence of heart disease\"\n",
    "    ]\n",
    "}\n",
    "pd.DataFrame(codebook).set_index(\"attribute\")"
   ],
   "metadata": {
    "collapsed": false,
    "ExecuteTime": {
     "end_time": "2024-03-07T19:40:19.883100100Z",
     "start_time": "2024-03-07T19:40:18.328447800Z"
    }
   },
   "id": "36d498aef7f83b46"
  },
  {
   "cell_type": "markdown",
   "source": [
    "The data consists of 5 numeric and 7 categorical attributes. "
   ],
   "metadata": {
    "collapsed": false
   },
   "id": "8fb5e75a7d1857dc"
  },
  {
   "cell_type": "code",
   "execution_count": 34,
   "outputs": [
    {
     "data": {
      "text/plain": "(918, 12)"
     },
     "execution_count": 34,
     "metadata": {},
     "output_type": "execute_result"
    }
   ],
   "source": [
    "df.shape"
   ],
   "metadata": {
    "collapsed": false,
    "ExecuteTime": {
     "end_time": "2024-03-05T14:56:46.673511500Z",
     "start_time": "2024-03-05T14:56:46.228778500Z"
    }
   },
   "id": "d108f2e26ba37db2"
  },
  {
   "cell_type": "markdown",
   "source": [
    "Verified that there are 918 rows and 12 attributes in the dataframe."
   ],
   "metadata": {
    "collapsed": false
   },
   "id": "44b4fb03e3d2cb40"
  },
  {
   "cell_type": "markdown",
   "source": [
    "conclusie: \n",
    "- the data is correctly read and can be used for further steps."
   ],
   "metadata": {
    "collapsed": false
   },
   "id": "bc35cde0f7b43463"
  },
  {
   "cell_type": "markdown",
   "source": [
    "## EDA univariaat\n",
    "eda voor elk atribuut op zich zelf\n",
    "bijv. verdeling per atribuut\n",
    "- .isna().sum()\n",
    "- .describe()\n",
    "- .boxplot\n",
    "- .hist\n",
    "- sns.histplot\n",
    "- pd.DataFrame(df[\"Age\"].value_counts().sortindex())"
   ],
   "metadata": {
    "collapsed": false
   },
   "id": "4ceec94c29906b9"
  },
  {
   "cell_type": "markdown",
   "source": [
    "Checking if there are NA values and describe every attribute."
   ],
   "metadata": {
    "collapsed": false
   },
   "id": "429a8ace3765e554"
  },
  {
   "cell_type": "code",
   "execution_count": 52,
   "outputs": [
    {
     "name": "stdout",
     "output_type": "stream",
     "text": [
      "              Age         Sex  ChestPainType   RestingBP  Cholesterol  \\\n",
      "count  918.000000  918.000000     918.000000  918.000000   918.000000   \n",
      "mean    53.510893    0.210240       1.132898  132.396514   198.799564   \n",
      "std      9.432617    0.407701       0.770069   18.514154   109.384145   \n",
      "min     28.000000    0.000000       0.000000    0.000000     0.000000   \n",
      "25%     47.000000    0.000000       1.000000  120.000000   173.250000   \n",
      "50%     54.000000    0.000000       1.000000  130.000000   223.000000   \n",
      "75%     60.000000    0.000000       2.000000  140.000000   267.000000   \n",
      "max     77.000000    1.000000       3.000000  200.000000   603.000000   \n",
      "\n",
      "        FastingBS  RestingECG       MaxHR  ExerciseAngina     Oldpeak  \\\n",
      "count  918.000000  918.000000  918.000000      918.000000  918.000000   \n",
      "mean     0.233115    0.603486  136.809368        0.404139    0.887364   \n",
      "std      0.423046    0.805968   25.460334        0.490992    1.066570   \n",
      "min      0.000000    0.000000   60.000000        0.000000   -2.600000   \n",
      "25%      0.000000    0.000000  120.000000        0.000000    0.000000   \n",
      "50%      0.000000    0.000000  138.000000        0.000000    0.600000   \n",
      "75%      0.000000    1.000000  156.000000        1.000000    1.500000   \n",
      "max      1.000000    2.000000  202.000000        1.000000    6.200000   \n",
      "\n",
      "         ST_Slope  HeartDisease  \n",
      "count  918.000000    918.000000  \n",
      "mean     1.361656      0.553377  \n",
      "std      0.607056      0.497414  \n",
      "min      0.000000      0.000000  \n",
      "25%      1.000000      0.000000  \n",
      "50%      1.000000      1.000000  \n",
      "75%      2.000000      1.000000  \n",
      "max      2.000000      1.000000  \n"
     ]
    }
   ],
   "source": [
    "print(df.describe())"
   ],
   "metadata": {
    "collapsed": false,
    "ExecuteTime": {
     "end_time": "2024-03-07T18:41:26.819164900Z",
     "start_time": "2024-03-07T18:41:23.205160300Z"
    }
   },
   "id": "cdcd61725c17e10f"
  },
  {
   "cell_type": "markdown",
   "source": [],
   "metadata": {
    "collapsed": false
   },
   "id": "5790db306c9a92aa"
  },
  {
   "cell_type": "code",
   "execution_count": 53,
   "outputs": [
    {
     "data": {
      "text/plain": "                isna\nAge                0\nSex                0\nChestPainType      0\nRestingBP          0\nCholesterol        0\nFastingBS          0\nRestingECG         0\nMaxHR              0\nExerciseAngina     0\nOldpeak            0\nST_Slope           0\nHeartDisease       0",
      "text/html": "<div>\n<style scoped>\n    .dataframe tbody tr th:only-of-type {\n        vertical-align: middle;\n    }\n\n    .dataframe tbody tr th {\n        vertical-align: top;\n    }\n\n    .dataframe thead th {\n        text-align: right;\n    }\n</style>\n<table border=\"1\" class=\"dataframe\">\n  <thead>\n    <tr style=\"text-align: right;\">\n      <th></th>\n      <th>isna</th>\n    </tr>\n  </thead>\n  <tbody>\n    <tr>\n      <th>Age</th>\n      <td>0</td>\n    </tr>\n    <tr>\n      <th>Sex</th>\n      <td>0</td>\n    </tr>\n    <tr>\n      <th>ChestPainType</th>\n      <td>0</td>\n    </tr>\n    <tr>\n      <th>RestingBP</th>\n      <td>0</td>\n    </tr>\n    <tr>\n      <th>Cholesterol</th>\n      <td>0</td>\n    </tr>\n    <tr>\n      <th>FastingBS</th>\n      <td>0</td>\n    </tr>\n    <tr>\n      <th>RestingECG</th>\n      <td>0</td>\n    </tr>\n    <tr>\n      <th>MaxHR</th>\n      <td>0</td>\n    </tr>\n    <tr>\n      <th>ExerciseAngina</th>\n      <td>0</td>\n    </tr>\n    <tr>\n      <th>Oldpeak</th>\n      <td>0</td>\n    </tr>\n    <tr>\n      <th>ST_Slope</th>\n      <td>0</td>\n    </tr>\n    <tr>\n      <th>HeartDisease</th>\n      <td>0</td>\n    </tr>\n  </tbody>\n</table>\n</div>"
     },
     "execution_count": 53,
     "metadata": {},
     "output_type": "execute_result"
    }
   ],
   "source": [
    "pd.DataFrame({\n",
    "    \"isna\": df.isna().sum()\n",
    "})"
   ],
   "metadata": {
    "collapsed": false,
    "ExecuteTime": {
     "end_time": "2024-03-07T18:45:23.336668300Z",
     "start_time": "2024-03-07T18:45:21.572429500Z"
    }
   },
   "id": "4903f6ab5ade1ceb"
  },
  {
   "cell_type": "markdown",
   "source": [
    "conclusion:\n",
    "- There are no values missing in any of the attributes."
   ],
   "metadata": {
    "collapsed": false
   },
   "id": "24f5bb48231df7b4"
  },
  {
   "cell_type": "code",
   "execution_count": null,
   "outputs": [],
   "source": [
    "sns.set(style=\"whitegrid\")\n",
    "plt.figure(figsize=(10, 6))\n",
    "sns.kdeplot(df['MaxHR'], shade=True, color=\"b\", alpha=0.7)\n",
    "plt.title(\"Density Plot of Attribute\")\n",
    "plt.xlabel(\"Age(Years)\")\n",
    "plt.ylabel(\"Density\")\n",
    "plt.show()\n"
   ],
   "metadata": {
    "collapsed": false
   },
   "id": "caf7714c779c66e3"
  },
  {
   "cell_type": "code",
   "execution_count": null,
   "outputs": [],
   "source": [
    "axs = df.boxplot(grid=False, vert=False, figsize=(9.6, 4.8))\n",
    "axs.set_title(\"Boxplot distributies\");"
   ],
   "metadata": {
    "collapsed": false
   },
   "id": "bb87c48e185c96cd"
  },
  {
   "cell_type": "code",
   "execution_count": null,
   "outputs": [],
   "source": [
    "plt.figure(figsize=(10, 6))\n",
    "sns.violinplot(x='RestingBP', data=df, palette=\"muted\")\n",
    "plt.title(\"Violin Plot of Attribute\")\n",
    "plt.xlabel(\"Attribute\")\n",
    "plt.ylabel(\"Value\")\n",
    "plt.show()"
   ],
   "metadata": {
    "collapsed": false
   },
   "id": "5f367bb583323833"
  },
  {
   "cell_type": "code",
   "execution_count": null,
   "outputs": [],
   "source": [
    "axs = df.hist(bins=40, figsize=(20, 12))"
   ],
   "metadata": {
    "collapsed": false
   },
   "id": "59a253ad0d892fdc"
  },
  {
   "cell_type": "code",
   "execution_count": null,
   "outputs": [],
   "source": [
    "disease_mapping = {0: 'no disease', 1: 'disease'}\n",
    "\n",
    "# Use the map function to replace values in the disease column\n",
    "x = df['HeartDisease'].map(disease_mapping)\n",
    "\n",
    "# Count the number of males and females\n",
    "gender_counts = x.value_counts()\n",
    "\n",
    "# Plot the counts\n",
    "gender_counts.plot(kind='bar')\n",
    "plt.xticks(rotation=0)\n",
    "plt.title('Count of with and without heart disease')\n",
    "plt.xlabel('with or without a heart disease')\n",
    "plt.ylabel('Count')\n",
    "plt.show()"
   ],
   "metadata": {
    "collapsed": false
   },
   "id": "8c4c948d034a7900"
  },
  {
   "cell_type": "code",
   "execution_count": null,
   "outputs": [],
   "source": [
    "# Count the number of males and females\n",
    "gender_counts = df['Sex'].value_counts()\n",
    "\n",
    "# Plot the counts\n",
    "gender_counts.plot(kind='bar')\n",
    "plt.xticks(rotation=0)\n",
    "plt.title('Count of Males and Females')\n",
    "plt.xlabel('Gender')\n",
    "plt.ylabel('Count')\n",
    "plt.show()"
   ],
   "metadata": {
    "collapsed": false
   },
   "id": "f9bfcd39badb487e"
  },
  {
   "cell_type": "code",
   "execution_count": null,
   "outputs": [],
   "source": [
    "gender_counts = df['ST_Slope'].value_counts()\n",
    "\n",
    "# Plot the counts\n",
    "gender_counts.plot(kind='bar')\n",
    "plt.xticks(rotation=0)\n",
    "plt.title('Count of ST_slope')\n",
    "plt.xlabel('slope')\n",
    "plt.ylabel('Count')\n",
    "plt.show()\n"
   ],
   "metadata": {
    "collapsed": false
   },
   "id": "8db5f6eaab794c1"
  },
  {
   "cell_type": "code",
   "execution_count": null,
   "outputs": [],
   "source": [
    "gender_counts = df['HeartDisease'].value_counts()\n",
    "\n",
    "# Plot the counts\n",
    "gender_counts.plot(kind='bar')\n",
    "plt.xticks(rotation=0)\n",
    "plt.title('Count of Heart disease')\n",
    "plt.xlabel('Heart disease or not')\n",
    "plt.ylabel('Count')\n",
    "plt.show()\n"
   ],
   "metadata": {
    "collapsed": false
   },
   "id": "128ffcbb7101b6cb"
  },
  {
   "cell_type": "markdown",
   "source": [
    "EDA bivariaat\n",
    "- sns.pairplot\n",
    "- sns.heatmap\n",
    "- sns.boxplot\n",
    "- something with anova??\n"
   ],
   "metadata": {
    "collapsed": false
   },
   "id": "20c73cad1638aba8"
  },
  {
   "cell_type": "code",
   "execution_count": 6,
   "outputs": [],
   "source": [
    "hm_df = df\n",
    "\n",
    "gender = {'M': 0, 'F': 1}# Create a dictionary to map 'M' to 0 and 'F' to 1\n",
    "hm_df['Sex'] = hm_df['Sex'].map(gender)# Use the map function to replace values in the gender column\n",
    "\n",
    "chest_pain = {'ATA': 0, 'ASY': 1, 'NAP': 2, 'TA': 3}\n",
    "hm_df['ChestPainType'] = hm_df['ChestPainType'].map(chest_pain)\n",
    "\n",
    "resting_ecg = {'Normal': 0, 'ST': 1, 'LVH': 2}\n",
    "hm_df['RestingECG'] = hm_df['RestingECG'].map(resting_ecg)\n",
    "\n",
    "exercise = {'N': 0, 'Y': 1}\n",
    "hm_df['ExerciseAngina'] = hm_df['ExerciseAngina'].map(exercise)\n",
    "\n",
    "slope = {'Down': 0, 'Flat': 1, 'Up': 2}\n",
    "hm_df['ST_Slope'] = hm_df['ST_Slope'].map(slope)\n"
   ],
   "metadata": {
    "collapsed": false,
    "ExecuteTime": {
     "end_time": "2024-03-05T11:56:17.630574200Z",
     "start_time": "2024-03-05T11:56:17.581315200Z"
    }
   },
   "id": "4024710b58f6680e"
  },
  {
   "cell_type": "code",
   "execution_count": null,
   "outputs": [],
   "source": [
    "# heatmap\n",
    "sns.pairplot(df, hue=\"HeartDisease\");"
   ],
   "metadata": {
    "collapsed": false
   },
   "id": "5a7054a99d9ecc62"
  },
  {
   "cell_type": "code",
   "execution_count": null,
   "outputs": [],
   "source": [
    "axs = sns.heatmap(df.corr(), annot=True, cmap=\"jet\", vmin=-1.0, vmax=1.0, square=True)"
   ],
   "metadata": {
    "collapsed": false
   },
   "id": "80bd9b28a77818b3"
  },
  {
   "cell_type": "code",
   "execution_count": null,
   "outputs": [],
   "source": [
    "plt.scatter(df['RestingBP'], df['Age'])\n",
    "plt.title('Title of the Plot')\n",
    "plt.xlabel('Resting BP')\n",
    "plt.ylabel('Ages')\n",
    "plt.show()\n"
   ],
   "metadata": {
    "collapsed": false
   },
   "id": "d34cee685fd300c6"
  },
  {
   "cell_type": "markdown",
   "source": [
    "data impurity if necessary"
   ],
   "metadata": {
    "collapsed": false
   },
   "id": "40df18a06bc5eebb"
  },
  {
   "cell_type": "markdown",
   "source": [
    "EDA multivariaat\n",
    "- scaled data\n",
    "- PCA maybe???"
   ],
   "metadata": {
    "collapsed": false
   },
   "id": "bb8df7aeac051ff8"
  },
  {
   "cell_type": "code",
   "execution_count": null,
   "outputs": [],
   "source": [],
   "metadata": {
    "collapsed": false
   },
   "id": "76697b82e0cc0a77"
  },
  {
   "cell_type": "code",
   "execution_count": null,
   "outputs": [],
   "source": [],
   "metadata": {
    "collapsed": false
   },
   "id": "b2ae69d34e580890"
  }
 ],
 "metadata": {
  "kernelspec": {
   "display_name": "Python 3",
   "language": "python",
   "name": "python3"
  },
  "language_info": {
   "codemirror_mode": {
    "name": "ipython",
    "version": 2
   },
   "file_extension": ".py",
   "mimetype": "text/x-python",
   "name": "python",
   "nbconvert_exporter": "python",
   "pygments_lexer": "ipython2",
   "version": "2.7.6"
  }
 },
 "nbformat": 4,
 "nbformat_minor": 5
}
